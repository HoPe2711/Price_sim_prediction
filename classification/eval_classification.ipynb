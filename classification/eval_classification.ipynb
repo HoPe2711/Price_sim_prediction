{
  "nbformat": 4,
  "nbformat_minor": 0,
  "metadata": {
    "colab": {
      "provenance": []
    },
    "kernelspec": {
      "name": "python3",
      "display_name": "Python 3"
    },
    "language_info": {
      "name": "python"
    },
    "accelerator": "GPU",
    "gpuClass": "standard"
  },
  "cells": [
    {
      "cell_type": "code",
      "execution_count": 1,
      "metadata": {
        "colab": {
          "base_uri": "https://localhost:8080/"
        },
        "id": "hm7aE0Mro4du",
        "outputId": "0e4846cb-f3ee-44a6-e5c0-1815a4215a8a"
      },
      "outputs": [
        {
          "output_type": "stream",
          "name": "stdout",
          "text": [
            "Drive already mounted at /content/gdrive; to attempt to forcibly remount, call drive.mount(\"/content/gdrive\", force_remount=True).\n"
          ]
        }
      ],
      "source": [
        "from google.colab import drive\n",
        "\n",
        "drive.mount(\"/content/gdrive\")"
      ]
    },
    {
      "cell_type": "code",
      "source": [
        "import pandas\n",
        "import numpy as np\n",
        "import regex as re\n",
        "\n",
        "df = pandas.read_csv('/content/gdrive/MyDrive/Colab Notebooks/sim/train_dataset.csv')\n",
        "df['price_vnd'] = df['price_vnd'].astype(int)\n",
        "df['sim_number'] = df['sim_number'].astype(str)\n",
        "\n",
        "label = []\n",
        "for i in df['price_vnd']:\n",
        "    if i <= 450000:\n",
        "        label.append(0)\n",
        "    elif i <= 750000:\n",
        "        label.append(1)\n",
        "    elif i <= 1500000:\n",
        "        label.append(2)\n",
        "    elif i <= 4000000:\n",
        "        label.append(3)\n",
        "    elif i <= 7500000:\n",
        "        label.append(4)\n",
        "    elif i <= 30000000:\n",
        "        label.append(5)\n",
        "    else:\n",
        "        label.append(6)\n",
        "df['label'] = label\n",
        "X = []\n",
        "for i in df['sim_number']:\n",
        "    b = np.zeros(shape=(9, 10))\n",
        "    de = 0\n",
        "    for p in i: \n",
        "        a = np.zeros(shape=(10))\n",
        "        a[int(p)] = 1\n",
        "        b[de] = a \n",
        "        de += 1\n",
        "    X.append(b)\n",
        "X = np.array(X)\n",
        "\n",
        "from sklearn.model_selection import train_test_split\n",
        "y = df['label']\n",
        "y = np.array(y)\n",
        "X_train, X_test, y_train, y_test = train_test_split(X, y, test_size=0.2, random_state=42)"
      ],
      "metadata": {
        "id": "knQUond4pLRB"
      },
      "execution_count": 2,
      "outputs": []
    },
    {
      "cell_type": "code",
      "source": [
        "sim_train = []\n",
        "for st in X_train:\n",
        "    s = ''\n",
        "    for i in np.argmax(st, axis = 1):\n",
        "        s += str(i)\n",
        "    sim_train.append(s)\n",
        "df_train = df.set_index('sim_number').loc[sim_train].reset_index()\n",
        "df_train.head()"
      ],
      "metadata": {
        "colab": {
          "base_uri": "https://localhost:8080/",
          "height": 206
        },
        "id": "FbFCm-BKrWw4",
        "outputId": "4c1ffea4-55fe-45d8-a1b4-f7b058923ddc"
      },
      "execution_count": 3,
      "outputs": [
        {
          "output_type": "execute_result",
          "data": {
            "text/plain": [
              "  sim_number  price_vnd  label\n",
              "0  908888939   56000000      6\n",
              "1  988275577    5000000      4\n",
              "2  329143188     450000      0\n",
              "3  344240682     450000      0\n",
              "4  343128345     450000      0"
            ],
            "text/html": [
              "\n",
              "  <div id=\"df-4bf35c73-d9c7-4375-b89a-d6bebcaa73e0\">\n",
              "    <div class=\"colab-df-container\">\n",
              "      <div>\n",
              "<style scoped>\n",
              "    .dataframe tbody tr th:only-of-type {\n",
              "        vertical-align: middle;\n",
              "    }\n",
              "\n",
              "    .dataframe tbody tr th {\n",
              "        vertical-align: top;\n",
              "    }\n",
              "\n",
              "    .dataframe thead th {\n",
              "        text-align: right;\n",
              "    }\n",
              "</style>\n",
              "<table border=\"1\" class=\"dataframe\">\n",
              "  <thead>\n",
              "    <tr style=\"text-align: right;\">\n",
              "      <th></th>\n",
              "      <th>sim_number</th>\n",
              "      <th>price_vnd</th>\n",
              "      <th>label</th>\n",
              "    </tr>\n",
              "  </thead>\n",
              "  <tbody>\n",
              "    <tr>\n",
              "      <th>0</th>\n",
              "      <td>908888939</td>\n",
              "      <td>56000000</td>\n",
              "      <td>6</td>\n",
              "    </tr>\n",
              "    <tr>\n",
              "      <th>1</th>\n",
              "      <td>988275577</td>\n",
              "      <td>5000000</td>\n",
              "      <td>4</td>\n",
              "    </tr>\n",
              "    <tr>\n",
              "      <th>2</th>\n",
              "      <td>329143188</td>\n",
              "      <td>450000</td>\n",
              "      <td>0</td>\n",
              "    </tr>\n",
              "    <tr>\n",
              "      <th>3</th>\n",
              "      <td>344240682</td>\n",
              "      <td>450000</td>\n",
              "      <td>0</td>\n",
              "    </tr>\n",
              "    <tr>\n",
              "      <th>4</th>\n",
              "      <td>343128345</td>\n",
              "      <td>450000</td>\n",
              "      <td>0</td>\n",
              "    </tr>\n",
              "  </tbody>\n",
              "</table>\n",
              "</div>\n",
              "      <button class=\"colab-df-convert\" onclick=\"convertToInteractive('df-4bf35c73-d9c7-4375-b89a-d6bebcaa73e0')\"\n",
              "              title=\"Convert this dataframe to an interactive table.\"\n",
              "              style=\"display:none;\">\n",
              "        \n",
              "  <svg xmlns=\"http://www.w3.org/2000/svg\" height=\"24px\"viewBox=\"0 0 24 24\"\n",
              "       width=\"24px\">\n",
              "    <path d=\"M0 0h24v24H0V0z\" fill=\"none\"/>\n",
              "    <path d=\"M18.56 5.44l.94 2.06.94-2.06 2.06-.94-2.06-.94-.94-2.06-.94 2.06-2.06.94zm-11 1L8.5 8.5l.94-2.06 2.06-.94-2.06-.94L8.5 2.5l-.94 2.06-2.06.94zm10 10l.94 2.06.94-2.06 2.06-.94-2.06-.94-.94-2.06-.94 2.06-2.06.94z\"/><path d=\"M17.41 7.96l-1.37-1.37c-.4-.4-.92-.59-1.43-.59-.52 0-1.04.2-1.43.59L10.3 9.45l-7.72 7.72c-.78.78-.78 2.05 0 2.83L4 21.41c.39.39.9.59 1.41.59.51 0 1.02-.2 1.41-.59l7.78-7.78 2.81-2.81c.8-.78.8-2.07 0-2.86zM5.41 20L4 18.59l7.72-7.72 1.47 1.35L5.41 20z\"/>\n",
              "  </svg>\n",
              "      </button>\n",
              "      \n",
              "  <style>\n",
              "    .colab-df-container {\n",
              "      display:flex;\n",
              "      flex-wrap:wrap;\n",
              "      gap: 12px;\n",
              "    }\n",
              "\n",
              "    .colab-df-convert {\n",
              "      background-color: #E8F0FE;\n",
              "      border: none;\n",
              "      border-radius: 50%;\n",
              "      cursor: pointer;\n",
              "      display: none;\n",
              "      fill: #1967D2;\n",
              "      height: 32px;\n",
              "      padding: 0 0 0 0;\n",
              "      width: 32px;\n",
              "    }\n",
              "\n",
              "    .colab-df-convert:hover {\n",
              "      background-color: #E2EBFA;\n",
              "      box-shadow: 0px 1px 2px rgba(60, 64, 67, 0.3), 0px 1px 3px 1px rgba(60, 64, 67, 0.15);\n",
              "      fill: #174EA6;\n",
              "    }\n",
              "\n",
              "    [theme=dark] .colab-df-convert {\n",
              "      background-color: #3B4455;\n",
              "      fill: #D2E3FC;\n",
              "    }\n",
              "\n",
              "    [theme=dark] .colab-df-convert:hover {\n",
              "      background-color: #434B5C;\n",
              "      box-shadow: 0px 1px 3px 1px rgba(0, 0, 0, 0.15);\n",
              "      filter: drop-shadow(0px 1px 2px rgba(0, 0, 0, 0.3));\n",
              "      fill: #FFFFFF;\n",
              "    }\n",
              "  </style>\n",
              "\n",
              "      <script>\n",
              "        const buttonEl =\n",
              "          document.querySelector('#df-4bf35c73-d9c7-4375-b89a-d6bebcaa73e0 button.colab-df-convert');\n",
              "        buttonEl.style.display =\n",
              "          google.colab.kernel.accessAllowed ? 'block' : 'none';\n",
              "\n",
              "        async function convertToInteractive(key) {\n",
              "          const element = document.querySelector('#df-4bf35c73-d9c7-4375-b89a-d6bebcaa73e0');\n",
              "          const dataTable =\n",
              "            await google.colab.kernel.invokeFunction('convertToInteractive',\n",
              "                                                     [key], {});\n",
              "          if (!dataTable) return;\n",
              "\n",
              "          const docLinkHtml = 'Like what you see? Visit the ' +\n",
              "            '<a target=\"_blank\" href=https://colab.research.google.com/notebooks/data_table.ipynb>data table notebook</a>'\n",
              "            + ' to learn more about interactive tables.';\n",
              "          element.innerHTML = '';\n",
              "          dataTable['output_type'] = 'display_data';\n",
              "          await google.colab.output.renderOutput(dataTable, element);\n",
              "          const docLink = document.createElement('div');\n",
              "          docLink.innerHTML = docLinkHtml;\n",
              "          element.appendChild(docLink);\n",
              "        }\n",
              "      </script>\n",
              "    </div>\n",
              "  </div>\n",
              "  "
            ]
          },
          "metadata": {},
          "execution_count": 3
        }
      ]
    },
    {
      "cell_type": "code",
      "source": [
        "sim_test = []\n",
        "for st in X_test:\n",
        "    s = ''\n",
        "    for i in np.argmax(st, axis = 1):\n",
        "        s += str(i)\n",
        "    sim_test.append(s)\n",
        "df_test = df.set_index('sim_number').loc[sim_test].reset_index()\n",
        "df_test.head()"
      ],
      "metadata": {
        "colab": {
          "base_uri": "https://localhost:8080/",
          "height": 206
        },
        "id": "kARLQPqYrXZi",
        "outputId": "8f82e4fa-d7dd-4e86-bfa8-917011596646"
      },
      "execution_count": 4,
      "outputs": [
        {
          "output_type": "execute_result",
          "data": {
            "text/plain": [
              "  sim_number  price_vnd  label\n",
              "0  862935693     450000      0\n",
              "1  866231006     450000      0\n",
              "2  338833595   10000000      5\n",
              "3  336043199     450000      0\n",
              "4  982409498     500000      1"
            ],
            "text/html": [
              "\n",
              "  <div id=\"df-4466dc01-e980-4c08-a48a-8ba4f5e93efa\">\n",
              "    <div class=\"colab-df-container\">\n",
              "      <div>\n",
              "<style scoped>\n",
              "    .dataframe tbody tr th:only-of-type {\n",
              "        vertical-align: middle;\n",
              "    }\n",
              "\n",
              "    .dataframe tbody tr th {\n",
              "        vertical-align: top;\n",
              "    }\n",
              "\n",
              "    .dataframe thead th {\n",
              "        text-align: right;\n",
              "    }\n",
              "</style>\n",
              "<table border=\"1\" class=\"dataframe\">\n",
              "  <thead>\n",
              "    <tr style=\"text-align: right;\">\n",
              "      <th></th>\n",
              "      <th>sim_number</th>\n",
              "      <th>price_vnd</th>\n",
              "      <th>label</th>\n",
              "    </tr>\n",
              "  </thead>\n",
              "  <tbody>\n",
              "    <tr>\n",
              "      <th>0</th>\n",
              "      <td>862935693</td>\n",
              "      <td>450000</td>\n",
              "      <td>0</td>\n",
              "    </tr>\n",
              "    <tr>\n",
              "      <th>1</th>\n",
              "      <td>866231006</td>\n",
              "      <td>450000</td>\n",
              "      <td>0</td>\n",
              "    </tr>\n",
              "    <tr>\n",
              "      <th>2</th>\n",
              "      <td>338833595</td>\n",
              "      <td>10000000</td>\n",
              "      <td>5</td>\n",
              "    </tr>\n",
              "    <tr>\n",
              "      <th>3</th>\n",
              "      <td>336043199</td>\n",
              "      <td>450000</td>\n",
              "      <td>0</td>\n",
              "    </tr>\n",
              "    <tr>\n",
              "      <th>4</th>\n",
              "      <td>982409498</td>\n",
              "      <td>500000</td>\n",
              "      <td>1</td>\n",
              "    </tr>\n",
              "  </tbody>\n",
              "</table>\n",
              "</div>\n",
              "      <button class=\"colab-df-convert\" onclick=\"convertToInteractive('df-4466dc01-e980-4c08-a48a-8ba4f5e93efa')\"\n",
              "              title=\"Convert this dataframe to an interactive table.\"\n",
              "              style=\"display:none;\">\n",
              "        \n",
              "  <svg xmlns=\"http://www.w3.org/2000/svg\" height=\"24px\"viewBox=\"0 0 24 24\"\n",
              "       width=\"24px\">\n",
              "    <path d=\"M0 0h24v24H0V0z\" fill=\"none\"/>\n",
              "    <path d=\"M18.56 5.44l.94 2.06.94-2.06 2.06-.94-2.06-.94-.94-2.06-.94 2.06-2.06.94zm-11 1L8.5 8.5l.94-2.06 2.06-.94-2.06-.94L8.5 2.5l-.94 2.06-2.06.94zm10 10l.94 2.06.94-2.06 2.06-.94-2.06-.94-.94-2.06-.94 2.06-2.06.94z\"/><path d=\"M17.41 7.96l-1.37-1.37c-.4-.4-.92-.59-1.43-.59-.52 0-1.04.2-1.43.59L10.3 9.45l-7.72 7.72c-.78.78-.78 2.05 0 2.83L4 21.41c.39.39.9.59 1.41.59.51 0 1.02-.2 1.41-.59l7.78-7.78 2.81-2.81c.8-.78.8-2.07 0-2.86zM5.41 20L4 18.59l7.72-7.72 1.47 1.35L5.41 20z\"/>\n",
              "  </svg>\n",
              "      </button>\n",
              "      \n",
              "  <style>\n",
              "    .colab-df-container {\n",
              "      display:flex;\n",
              "      flex-wrap:wrap;\n",
              "      gap: 12px;\n",
              "    }\n",
              "\n",
              "    .colab-df-convert {\n",
              "      background-color: #E8F0FE;\n",
              "      border: none;\n",
              "      border-radius: 50%;\n",
              "      cursor: pointer;\n",
              "      display: none;\n",
              "      fill: #1967D2;\n",
              "      height: 32px;\n",
              "      padding: 0 0 0 0;\n",
              "      width: 32px;\n",
              "    }\n",
              "\n",
              "    .colab-df-convert:hover {\n",
              "      background-color: #E2EBFA;\n",
              "      box-shadow: 0px 1px 2px rgba(60, 64, 67, 0.3), 0px 1px 3px 1px rgba(60, 64, 67, 0.15);\n",
              "      fill: #174EA6;\n",
              "    }\n",
              "\n",
              "    [theme=dark] .colab-df-convert {\n",
              "      background-color: #3B4455;\n",
              "      fill: #D2E3FC;\n",
              "    }\n",
              "\n",
              "    [theme=dark] .colab-df-convert:hover {\n",
              "      background-color: #434B5C;\n",
              "      box-shadow: 0px 1px 3px 1px rgba(0, 0, 0, 0.15);\n",
              "      filter: drop-shadow(0px 1px 2px rgba(0, 0, 0, 0.3));\n",
              "      fill: #FFFFFF;\n",
              "    }\n",
              "  </style>\n",
              "\n",
              "      <script>\n",
              "        const buttonEl =\n",
              "          document.querySelector('#df-4466dc01-e980-4c08-a48a-8ba4f5e93efa button.colab-df-convert');\n",
              "        buttonEl.style.display =\n",
              "          google.colab.kernel.accessAllowed ? 'block' : 'none';\n",
              "\n",
              "        async function convertToInteractive(key) {\n",
              "          const element = document.querySelector('#df-4466dc01-e980-4c08-a48a-8ba4f5e93efa');\n",
              "          const dataTable =\n",
              "            await google.colab.kernel.invokeFunction('convertToInteractive',\n",
              "                                                     [key], {});\n",
              "          if (!dataTable) return;\n",
              "\n",
              "          const docLinkHtml = 'Like what you see? Visit the ' +\n",
              "            '<a target=\"_blank\" href=https://colab.research.google.com/notebooks/data_table.ipynb>data table notebook</a>'\n",
              "            + ' to learn more about interactive tables.';\n",
              "          element.innerHTML = '';\n",
              "          dataTable['output_type'] = 'display_data';\n",
              "          await google.colab.output.renderOutput(dataTable, element);\n",
              "          const docLink = document.createElement('div');\n",
              "          docLink.innerHTML = docLinkHtml;\n",
              "          element.appendChild(docLink);\n",
              "        }\n",
              "      </script>\n",
              "    </div>\n",
              "  </div>\n",
              "  "
            ]
          },
          "metadata": {},
          "execution_count": 4
        }
      ]
    },
    {
      "cell_type": "code",
      "source": [
        "from tensorflow import keras\n",
        "from keras.layers import LSTM, Bidirectional, TimeDistributed, Conv1D, MaxPooling1D, BatchNormalization\n",
        "\n",
        "model = keras.models.Sequential()\n",
        "\n",
        "model.add(Conv1D(64, 2, activation='relu', padding='same', input_shape=(9,10)))\n",
        "model.add(Conv1D(128, 2, activation='relu', padding='same'))\n",
        "model.add(BatchNormalization())\n",
        "model.add(MaxPooling1D(2))\n",
        "\n",
        "model.add(Bidirectional(LSTM(200, return_sequences=True),\n",
        "                             input_shape=(9,10)))\n",
        "\n",
        "model.add(keras.layers.Dropout(0.2))\n",
        "\n",
        "model.add(Bidirectional(LSTM(200)))\n",
        "\n",
        "model.add(keras.layers.Dropout(0.2))\n",
        "\n",
        "model.add(keras.layers.Dense(7, activation='softmax'))\n",
        "\n",
        "model.compile( loss='sparse_categorical_crossentropy', optimizer = keras.optimizers.Adam(), metrics=['accuracy'] )\n"
      ],
      "metadata": {
        "id": "w-3ba1UspM95"
      },
      "execution_count": 5,
      "outputs": []
    },
    {
      "cell_type": "code",
      "source": [
        "model.load_weights('/content/gdrive/MyDrive/Colab Notebooks/sim/model-7-class.h5')\n",
        "aa = model.predict(X_test, batch_size = 64)\n",
        "from sklearn.metrics import classification_report, confusion_matrix, accuracy_score\n",
        "y_pred = np.argmax(aa, axis=1)\n",
        "print(confusion_matrix(y_test,y_pred))\n",
        "print(classification_report(y_test,y_pred))\n",
        "df_test['pred'] = y_pred"
      ],
      "metadata": {
        "colab": {
          "base_uri": "https://localhost:8080/"
        },
        "id": "x1T5fi3xpRPQ",
        "outputId": "e8693561-49aa-43f3-9626-c50c58dc31cb"
      },
      "execution_count": 6,
      "outputs": [
        {
          "output_type": "stream",
          "name": "stdout",
          "text": [
            "625/625 [==============================] - 8s 4ms/step\n",
            "[[8709  251   63   53   56    4    0]\n",
            " [ 475 4930  525  116   28    8    1]\n",
            " [ 204  568 6401  380   66   43    3]\n",
            " [  68  143  310 4095 1035  259    5]\n",
            " [  56   39   69 1014 2449  553    7]\n",
            " [  11   19  157  253  508 4234   68]\n",
            " [   0    2    5   13   12   92 1640]]\n",
            "              precision    recall  f1-score   support\n",
            "\n",
            "           0       0.91      0.95      0.93      9136\n",
            "           1       0.83      0.81      0.82      6083\n",
            "           2       0.85      0.84      0.84      7665\n",
            "           3       0.69      0.69      0.69      5915\n",
            "           4       0.59      0.58      0.59      4187\n",
            "           5       0.82      0.81      0.81      5250\n",
            "           6       0.95      0.93      0.94      1764\n",
            "\n",
            "    accuracy                           0.81     40000\n",
            "   macro avg       0.81      0.80      0.80     40000\n",
            "weighted avg       0.81      0.81      0.81     40000\n",
            "\n"
          ]
        }
      ]
    },
    {
      "cell_type": "code",
      "source": [
        "from keras.models import Model\n",
        "\n",
        "layer_output = model.layers[-3].output\n",
        "intermediate_model = Model(inputs=model.input,outputs=layer_output)\n",
        "intermediate_prediction = intermediate_model.predict(X_train, batch_size = 64)\n",
        "tmp = np.matrix(intermediate_prediction)\n",
        "df_train = pandas.concat([df_train, pandas.DataFrame(tmp)], axis=1)"
      ],
      "metadata": {
        "colab": {
          "base_uri": "https://localhost:8080/"
        },
        "id": "qMhLyjYNpVT-",
        "outputId": "11c2f4c8-eed1-4f85-cdc5-2ddbf39dc22b"
      },
      "execution_count": 7,
      "outputs": [
        {
          "output_type": "stream",
          "name": "stdout",
          "text": [
            "2500/2500 [==============================] - 11s 4ms/step\n"
          ]
        }
      ]
    },
    {
      "cell_type": "code",
      "source": [
        "intermediate_prediction = intermediate_model.predict(X_test,  batch_size = 64)\n",
        "tmp = np.matrix(intermediate_prediction)\n",
        "df_test = pandas.concat([df_test, pandas.DataFrame(tmp)], axis=1)"
      ],
      "metadata": {
        "colab": {
          "base_uri": "https://localhost:8080/"
        },
        "id": "xqg_8xkerpca",
        "outputId": "41ae85e7-12f2-416b-d3dc-f32e4177540d"
      },
      "execution_count": 8,
      "outputs": [
        {
          "output_type": "stream",
          "name": "stdout",
          "text": [
            "625/625 [==============================] - 2s 4ms/step\n"
          ]
        }
      ]
    },
    {
      "cell_type": "code",
      "source": [
        "from sklearn.neighbors import KNeighborsRegressor\n",
        "from sklearn.metrics import mean_squared_error as MSE\n",
        "\n",
        "def KNN(label, neighbors):\n",
        "    tr = df_train[df_train['label'] == label]\n",
        "    te = df_test[df_test['pred'] == label]\n",
        "    X_train = tr.drop(columns=['label', 'price_vnd', 'sim_number']).values\n",
        "    y_train = tr['price_vnd'].values\n",
        "    X_test = te.drop(columns=['label', 'price_vnd', 'sim_number', 'pred']).values\n",
        "    y_test = te['price_vnd'].values\n",
        "\n",
        "    linear = KNeighborsRegressor(n_neighbors=neighbors)\n",
        "    linear.fit(X_train, y_train)\n",
        "    pred = linear.predict(X_test)\n",
        "\n",
        "    rmse = np.sqrt(MSE(y_test, pred))\n",
        "    print(\"RMSE : % f\" %(rmse))\n",
        "    return dict(zip(te['sim_number'].values, pred))\n",
        "\n",
        "predict_label_5 = KNN(5, 5)\n",
        "predict_label_6 = KNN(6, 5)"
      ],
      "metadata": {
        "colab": {
          "base_uri": "https://localhost:8080/"
        },
        "id": "GwQIw0PPr0rG",
        "outputId": "5f73ff92-2cb7-4cfb-d16a-fc89e52d04fd"
      },
      "execution_count": 13,
      "outputs": [
        {
          "output_type": "stream",
          "name": "stdout",
          "text": [
            "RMSE :  15220607.878067\n",
            "RMSE :  409147831.065657\n"
          ]
        }
      ]
    },
    {
      "cell_type": "code",
      "source": [
        "from sklearn.metrics import mean_absolute_error\n",
        "\n",
        "final_predict = []\n",
        "for index, row in df_test.iterrows():\n",
        "    if row['pred'] == 0:\n",
        "        final_predict.append(450000)\n",
        "    elif row['pred'] == 1:\n",
        "        final_predict.append(500000)\n",
        "    elif row['pred'] == 2:\n",
        "        final_predict.append(1000000)\n",
        "    elif row['pred'] == 3:\n",
        "        final_predict.append(3000000)\n",
        "    elif row['pred'] == 4:\n",
        "        final_predict.append(5000000)\n",
        "    elif row['pred'] == 5:\n",
        "        final_predict.append(predict_label_5[row['sim_number']])\n",
        "    else:\n",
        "        final_predict.append(predict_label_6[row['sim_number']])\n",
        "        \n",
        "rmse = np.sqrt(MSE(final_predict, df_test['price_vnd'].values))\n",
        "print(\"RMSE : % f\" %(rmse))\n",
        "\n",
        "mae = mean_absolute_error(final_predict, df_test['price_vnd'].values)\n",
        "print('MAE: %.3f' % mae)"
      ],
      "metadata": {
        "colab": {
          "base_uri": "https://localhost:8080/"
        },
        "id": "EjovMHvBsPAH",
        "outputId": "dcf35f94-2147-475c-ca20-da61cb630923"
      },
      "execution_count": 14,
      "outputs": [
        {
          "output_type": "stream",
          "name": "stdout",
          "text": [
            "RMSE :  88892168.388900\n",
            "MAE: 5597789.599\n"
          ]
        }
      ]
    }
  ]
}