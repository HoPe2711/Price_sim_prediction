{
  "nbformat": 4,
  "nbformat_minor": 0,
  "metadata": {
    "colab": {
      "provenance": []
    },
    "kernelspec": {
      "name": "python3",
      "display_name": "Python 3"
    },
    "language_info": {
      "name": "python"
    },
    "accelerator": "GPU",
    "gpuClass": "standard"
  },
  "cells": [
    {
      "cell_type": "code",
      "source": [
        "from google.colab import drive\n",
        "\n",
        "drive.mount(\"/content/gdrive\")"
      ],
      "metadata": {
        "colab": {
          "base_uri": "https://localhost:8080/"
        },
        "id": "lhTB-yFJjshQ",
        "outputId": "e16b2a97-5fea-4d7a-a081-10e2512f1a77"
      },
      "execution_count": 1,
      "outputs": [
        {
          "output_type": "stream",
          "name": "stdout",
          "text": [
            "Mounted at /content/gdrive\n"
          ]
        }
      ]
    },
    {
      "cell_type": "code",
      "execution_count": 2,
      "metadata": {
        "id": "dlUxoB5njchf"
      },
      "outputs": [],
      "source": [
        "import pandas as pd\n",
        "import numpy as np\n",
        "from sklearn.model_selection import train_test_split\n",
        "import tensorflow as tf\n",
        "from tensorflow import keras\n",
        "from keras.models import Model\n",
        "from keras.layers import LSTM, Bidirectional, Conv1D, MaxPooling1D, BatchNormalization, Input, Dense, Dropout\n",
        "\n",
        "df = pd.read_csv('/content/gdrive/MyDrive/Colab Notebooks/sim/train_dataset.csv')\n",
        "df['price_vnd'] = df['price_vnd'].astype(int)\n",
        "df['sim_number'] = df['sim_number'].astype(str)\n",
        "\n",
        "X = []\n",
        "for i in df['sim_number']:\n",
        "    b = np.zeros(shape=(9, 10))\n",
        "    de = 0\n",
        "    for p in i: \n",
        "        a = np.zeros(shape=(10))\n",
        "        a[int(p)] = 1\n",
        "        b[de] = a \n",
        "        de += 1\n",
        "    X.append(b)\n",
        "X = np.array(X)\n",
        "\n",
        "y = df['price_vnd'].values\n",
        "X_train, X_test, y_train, y_test = train_test_split(X, y, test_size=0.2, random_state=42)\n",
        "\n",
        "input_layer = Input(shape=(9, 10))\n",
        "conv1 = Conv1D(64, 2, activation='relu', padding='same')(input_layer)\n",
        "conv2 = Conv1D(128, 2, activation='relu', padding='same')(conv1)\n",
        "x = BatchNormalization()(conv2)\n",
        "x = MaxPooling1D(2)(x)\n",
        "\n",
        "lstm1 = Bidirectional(LSTM(200, return_sequences=True), \n",
        "                             input_shape=(x.shape[1:]))(x)\n",
        "x = Dropout(0.2)(lstm1)\n",
        "\n",
        "lstm2 = Bidirectional(LSTM(200))(x)\n",
        "x = Dropout(0.2)(lstm2)\n",
        "x = Dense(256, activation='relu')(x)\n",
        "x = Dense(64, activation='relu')(x)\n",
        "\n",
        "output_layer = Dense(1)(x)\n",
        "model = Model(inputs=input_layer, outputs=output_layer)\n",
        "\n",
        "model.compile( loss='mean_squared_error', optimizer = keras.optimizers.Adam())"
      ]
    },
    {
      "cell_type": "code",
      "source": [
        "model.load_weights('/content/gdrive/MyDrive/Colab Notebooks/sim/model-regression.h5')\n",
        "pred = model.predict(X_test, batch_size=64)\n",
        "from sklearn.metrics import mean_squared_error as MSE\n",
        "rmse = np.sqrt(MSE(pred, y_test))\n",
        "print(\"RMSE : %3f\" %(rmse))\n"
      ],
      "metadata": {
        "colab": {
          "base_uri": "https://localhost:8080/"
        },
        "id": "S3bRv1zBnaZY",
        "outputId": "4edbdc80-75f5-4587-e390-4d197209dfa6"
      },
      "execution_count": 3,
      "outputs": [
        {
          "output_type": "stream",
          "name": "stdout",
          "text": [
            "625/625 [==============================] - 27s 40ms/step\n",
            "RMSE : 84918699.052423\n"
          ]
        }
      ]
    }
  ]
}